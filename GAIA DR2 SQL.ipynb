{
 "cells": [
  {
   "cell_type": "code",
   "execution_count": 1,
   "metadata": {},
   "outputs": [
    {
     "name": "stdout",
     "output_type": "stream",
     "text": [
      "Created TAP+ (v1.2.1) - Connection:\n",
      "\tHost: gea.esac.esa.int\n",
      "\tUse HTTPS: True\n",
      "\tPort: 443\n",
      "\tSSL Port: 443\n",
      "Created TAP+ (v1.2.1) - Connection:\n",
      "\tHost: geadata.esac.esa.int\n",
      "\tUse HTTPS: True\n",
      "\tPort: 443\n",
      "\tSSL Port: 443\n"
     ]
    }
   ],
   "source": [
    "import astropy.units as u\n",
    "from astropy.coordinates.sky_coordinate import SkyCoord\n",
    "from astropy.units import Quantity\n",
    "from astroquery.gaia import Gaia\n",
    "from astropy.io.votable import parse\n",
    "import pandas as pd\n",
    "import numpy as np \n",
    "import matplotlib.pyplot as plt"
   ]
  },
  {
   "cell_type": "code",
   "execution_count": 2,
   "metadata": {},
   "outputs": [
    {
     "name": "stdout",
     "output_type": "stream",
     "text": [
      "INFO: Retrieving tables... [astroquery.utils.tap.core]\n",
      "INFO: Parsing tables... [astroquery.utils.tap.core]\n",
      "INFO: Done. [astroquery.utils.tap.core]\n",
      "external.external.apassdr9\n",
      "external.external.gaiadr2_geometric_distance\n",
      "external.external.galex_ais\n",
      "external.external.ravedr5_com\n",
      "external.external.ravedr5_dr5\n",
      "external.external.ravedr5_gra\n",
      "external.external.ravedr5_on\n",
      "external.external.sdssdr13_photoprimary\n",
      "external.external.skymapperdr1_master\n",
      "external.external.tmass_xsc\n",
      "public.public.hipparcos\n",
      "public.public.hipparcos_newreduction\n",
      "public.public.hubble_sc\n",
      "public.public.igsl_source\n",
      "public.public.igsl_source_catalog_ids\n",
      "public.public.tycho2\n",
      "public.public.dual\n",
      "tap_config.tap_config.coord_sys\n",
      "tap_config.tap_config.properties\n",
      "tap_schema.tap_schema.columns\n",
      "tap_schema.tap_schema.key_columns\n",
      "tap_schema.tap_schema.keys\n",
      "tap_schema.tap_schema.schemas\n",
      "tap_schema.tap_schema.tables\n",
      "gaiadr1.gaiadr1.aux_qso_icrf2_match\n",
      "gaiadr1.gaiadr1.ext_phot_zero_point\n",
      "gaiadr1.gaiadr1.allwise_best_neighbour\n",
      "gaiadr1.gaiadr1.allwise_neighbourhood\n",
      "gaiadr1.gaiadr1.gsc23_best_neighbour\n",
      "gaiadr1.gaiadr1.gsc23_neighbourhood\n",
      "gaiadr1.gaiadr1.ppmxl_best_neighbour\n",
      "gaiadr1.gaiadr1.ppmxl_neighbourhood\n",
      "gaiadr1.gaiadr1.sdss_dr9_best_neighbour\n",
      "gaiadr1.gaiadr1.sdss_dr9_neighbourhood\n",
      "gaiadr1.gaiadr1.tmass_best_neighbour\n",
      "gaiadr1.gaiadr1.tmass_neighbourhood\n",
      "gaiadr1.gaiadr1.ucac4_best_neighbour\n",
      "gaiadr1.gaiadr1.ucac4_neighbourhood\n",
      "gaiadr1.gaiadr1.urat1_best_neighbour\n",
      "gaiadr1.gaiadr1.urat1_neighbourhood\n",
      "gaiadr1.gaiadr1.cepheid\n",
      "gaiadr1.gaiadr1.phot_variable_time_series_gfov\n",
      "gaiadr1.gaiadr1.phot_variable_time_series_gfov_statistical_parameters\n",
      "gaiadr1.gaiadr1.rrlyrae\n",
      "gaiadr1.gaiadr1.variable_summary\n",
      "gaiadr1.gaiadr1.allwise_original_valid\n",
      "gaiadr1.gaiadr1.gsc23_original_valid\n",
      "gaiadr1.gaiadr1.ppmxl_original_valid\n",
      "gaiadr1.gaiadr1.sdssdr9_original_valid\n",
      "gaiadr1.gaiadr1.tmass_original_valid\n",
      "gaiadr1.gaiadr1.ucac4_original_valid\n",
      "gaiadr1.gaiadr1.urat1_original_valid\n",
      "gaiadr1.gaiadr1.gaia_source\n",
      "gaiadr1.gaiadr1.tgas_source\n",
      "gaiadr2.gaiadr2.aux_allwise_agn_gdr2_cross_id\n",
      "gaiadr2.gaiadr2.aux_iers_gdr2_cross_id\n",
      "gaiadr2.gaiadr2.aux_sso_orbit_residuals\n",
      "gaiadr2.gaiadr2.aux_sso_orbits\n",
      "gaiadr2.gaiadr2.dr1_neighbourhood\n",
      "gaiadr2.gaiadr2.allwise_best_neighbour\n",
      "gaiadr2.gaiadr2.allwise_neighbourhood\n",
      "gaiadr2.gaiadr2.apassdr9_best_neighbour\n",
      "gaiadr2.gaiadr2.apassdr9_neighbourhood\n",
      "gaiadr2.gaiadr2.gsc23_best_neighbour\n",
      "gaiadr2.gaiadr2.gsc23_neighbourhood\n",
      "gaiadr2.gaiadr2.hipparcos2_best_neighbour\n",
      "gaiadr2.gaiadr2.hipparcos2_neighbourhood\n",
      "gaiadr2.gaiadr2.panstarrs1_best_neighbour\n",
      "gaiadr2.gaiadr2.panstarrs1_neighbourhood\n",
      "gaiadr2.gaiadr2.ppmxl_best_neighbour\n",
      "gaiadr2.gaiadr2.ppmxl_neighbourhood\n",
      "gaiadr2.gaiadr2.ravedr5_best_neighbour\n",
      "gaiadr2.gaiadr2.ravedr5_neighbourhood\n",
      "gaiadr2.gaiadr2.sdssdr9_best_neighbour\n",
      "gaiadr2.gaiadr2.sdssdr9_neighbourhood\n",
      "gaiadr2.gaiadr2.tmass_best_neighbour\n",
      "gaiadr2.gaiadr2.tmass_neighbourhood\n",
      "gaiadr2.gaiadr2.tycho2_best_neighbour\n",
      "gaiadr2.gaiadr2.tycho2_neighbourhood\n",
      "gaiadr2.gaiadr2.urat1_best_neighbour\n",
      "gaiadr2.gaiadr2.urat1_neighbourhood\n",
      "gaiadr2.gaiadr2.sso_observation\n",
      "gaiadr2.gaiadr2.sso_source\n",
      "gaiadr2.gaiadr2.vari_cepheid\n",
      "gaiadr2.gaiadr2.vari_classifier_class_definition\n",
      "gaiadr2.gaiadr2.vari_classifier_definition\n",
      "gaiadr2.gaiadr2.vari_classifier_result\n",
      "gaiadr2.gaiadr2.vari_long_period_variable\n",
      "gaiadr2.gaiadr2.vari_rotation_modulation\n",
      "gaiadr2.gaiadr2.vari_rrlyrae\n",
      "gaiadr2.gaiadr2.vari_short_timescale\n",
      "gaiadr2.gaiadr2.vari_time_series_statistics\n",
      "gaiadr2.gaiadr2.panstarrs1_original_valid\n",
      "gaiadr2.gaiadr2.gaia_source\n",
      "gaiadr2.gaiadr2.ruwe\n"
     ]
    }
   ],
   "source": [
    "tables = Gaia.load_tables(only_names=True)\n",
    "for table in (tables):\n",
    "    print (table.get_qualified_name())\n",
    "    "
   ]
  },
  {
   "cell_type": "code",
   "execution_count": null,
   "metadata": {},
   "outputs": [],
   "source": [
    "#Beehive\n",
    "job = Gaia.launch_job_async(\"SELECT dr2.pmra,dr2.pmra_error , dr2.pmdec, dr2.pmdec_error,dr2.parallax, dr2.parallax_error, \\\n",
    "dr2.phot_g_mean_mag as g, dr2.phot_g_mean_flux_error AS g_error, dr2.phot_rp_mean_mag AS rp, \\\n",
    "dr2.phot_rp_mean_flux_error AS rp_error, dr2.phot_bp_mean_mag AS bp, dr2.phot_bp_mean_flux_error AS bp_error,dr2.bp_rp, \\\n",
    "dr2.visibility_periods_used, dr2.astrometric_chi2_al, dr2.astrometric_n_good_obs_al \\\n",
    "FROM gaiadr2.gaia_source AS dr2 \\\n",
    "WHERE CONTAINS(POINT('ICRS',dr2.ra, dr2.dec),CIRCLE('ICRS',130.02, 19.5 ,8))=1 \\\n",
    "AND dr2.parallax > 0 \\\n",
    "AND visibility_periods_used   > 8  ;\" \\\n",
    ", dump_to_file=True)\n",
    "print (job)"
   ]
  },
  {
   "cell_type": "code",
   "execution_count": 3,
   "metadata": {},
   "outputs": [
    {
     "name": "stdout",
     "output_type": "stream",
     "text": [
      "Jobid: 1603127143400O\n",
      "Phase: COMPLETED\n",
      "Owner: None\n",
      "Output file: async_20201019120543.vot\n",
      "Results: None\n"
     ]
    }
   ],
   "source": [
    "#Ppleiades\n",
    "job = Gaia.launch_job_async(\"SELECT dr2.pmra,dr2.pmra_error , dr2.pmdec, dr2.pmdec_error,dr2.parallax, dr2.parallax_error, \\\n",
    "dr2.phot_g_mean_mag as g, dr2.phot_g_mean_flux_error AS g_error, dr2.phot_rp_mean_mag AS rp, \\\n",
    "dr2.phot_rp_mean_flux_error AS rp_error, dr2.phot_bp_mean_mag AS bp, dr2.phot_bp_mean_flux_error AS bp_error,dr2.bp_rp, \\\n",
    "dr2.visibility_periods_used, dr2.astrometric_chi2_al, dr2.astrometric_n_good_obs_al \\\n",
    "FROM gaiadr2.gaia_source AS dr2 \\\n",
    "WHERE CONTAINS(POINT('ICRS',dr2.ra, dr2.dec),CIRCLE('ICRS',56.8, 24.1 , 10))=1 \\\n",
    "AND dr2.parallax > 0 \\\n",
    "AND visibility_periods_used   > 8  ;\" \\\n",
    ", dump_to_file=True)\n",
    "print (job)"
   ]
  },
  {
   "cell_type": "code",
   "execution_count": null,
   "metadata": {},
   "outputs": [],
   "source": [
    "#Perseus\n",
    "job = Gaia.launch_job_async(\"SELECT dr2.pmra,dr2.pmra_error , dr2.pmdec, dr2.pmdec_error,dr2.parallax, dr2.parallax_error, \\\n",
    "dr2.phot_g_mean_mag as g, dr2.phot_g_mean_flux_error AS g_error, dr2.phot_rp_mean_mag AS rp, \\\n",
    "dr2.phot_rp_mean_flux_error AS rp_error, dr2.phot_bp_mean_mag AS bp, dr2.phot_bp_mean_flux_error AS bp_error,dr2.bp_rp, \\\n",
    "dr2.visibility_periods_used, dr2.astrometric_chi2_al, dr2.astrometric_n_good_obs_al \\\n",
    "FROM gaiadr2.gaia_source AS dr2 \\\n",
    "WHERE CONTAINS(POINT('ICRS',dr2.ra, dr2.dec),CIRCLE('ICRS',35.0, 57.1 ,1.0))=1 \\\n",
    "AND dr2.parallax > 0 \\\n",
    "AND visibility_periods_used   > 8  ;\" \\\n",
    ", dump_to_file=True)\n",
    "print (job)"
   ]
  },
  {
   "cell_type": "code",
   "execution_count": null,
   "metadata": {},
   "outputs": [],
   "source": [
    "#Hyades   YA\n",
    "job = Gaia.launch_job_async(\"SELECT dr2.pmra,dr2.pmra_error , dr2.pmdec, dr2.pmdec_error,dr2.parallax, dr2.parallax_error, \\\n",
    "dr2.phot_g_mean_mag as g, dr2.phot_g_mean_flux_error AS g_error, dr2.phot_rp_mean_mag AS rp, \\\n",
    "dr2.phot_rp_mean_flux_error AS rp_error, dr2.phot_bp_mean_mag AS bp, dr2.phot_bp_mean_flux_error AS bp_error,dr2.bp_rp, \\\n",
    "dr2.visibility_periods_used, dr2.astrometric_chi2_al, dr2.astrometric_n_good_obs_al \\\n",
    "FROM gaiadr2.gaia_source AS dr2 \\\n",
    "WHERE CONTAINS(POINT('ICRS',dr2.ra, dr2.dec),CIRCLE('ICRS',66.725, 15.8667 ,12))=1 \\\n",
    "AND dr2.parallax > 0 \\\n",
    "AND visibility_periods_used   > 8  ;\" \\\n",
    ", dump_to_file=True)\n",
    "print (job)"
   ]
  },
  {
   "cell_type": "code",
   "execution_count": null,
   "metadata": {},
   "outputs": [],
   "source": [
    "#NGC2451       YA\n",
    "job = Gaia.launch_job_async(\"SELECT dr2.pmra,dr2.pmra_error , dr2.pmdec, dr2.pmdec_error,dr2.parallax, dr2.parallax_error, \\\n",
    "dr2.phot_g_mean_mag as g, dr2.phot_g_mean_flux_error AS g_error, dr2.phot_rp_mean_mag AS rp, \\\n",
    "dr2.phot_rp_mean_flux_error AS rp_error, dr2.phot_bp_mean_mag AS bp, dr2.phot_bp_mean_flux_error AS bp_error,dr2.bp_rp, \\\n",
    "dr2.visibility_periods_used, dr2.astrometric_chi2_al, dr2.astrometric_n_good_obs_al \\\n",
    "FROM gaiadr2.gaia_source AS dr2 \\\n",
    "WHERE CONTAINS(POINT('ICRS',dr2.ra, dr2.dec),CIRCLE('ICRS',116.2683, -37.9667 ,4))=1 \\\n",
    "AND dr2.parallax > 0 \\\n",
    "AND visibility_periods_used   > 8  ;\" \\\n",
    ", dump_to_file=True)\n",
    "print (job)"
   ]
  },
  {
   "cell_type": "code",
   "execution_count": null,
   "metadata": {},
   "outputs": [],
   "source": [
    "#Blanco1    YA\n",
    "job = Gaia.launch_job_async(\"SELECT dr2.pmra,dr2.pmra_error , dr2.pmdec, dr2.pmdec_error,dr2.parallax, dr2.parallax_error, \\\n",
    "dr2.phot_g_mean_mag as g, dr2.phot_g_mean_flux_error AS g_error, dr2.phot_rp_mean_mag AS rp, \\\n",
    "dr2.phot_rp_mean_flux_error AS rp_error, dr2.phot_bp_mean_mag AS bp, dr2.phot_bp_mean_flux_error AS bp_error,dr2.bp_rp, \\\n",
    "dr2.visibility_periods_used, dr2.astrometric_chi2_al, dr2.astrometric_n_good_obs_al \\\n",
    "FROM gaiadr2.gaia_source AS dr2 \\\n",
    "WHERE CONTAINS(POINT('ICRS',dr2.ra, dr2.dec),CIRCLE('ICRS',1.0292, -29.8333 ,8))=1 \\\n",
    "AND dr2.parallax > 0 \\\n",
    "AND visibility_periods_used   > 8  ;\" \\\n",
    ", dump_to_file=True)\n",
    "print (job)"
   ]
  },
  {
   "cell_type": "code",
   "execution_count": 4,
   "metadata": {},
   "outputs": [],
   "source": [
    "from astropy.io.votable import parse\n",
    "import pandas as pd\n",
    "# Esto lee el archivo vot y lo convierte en un dataframe con pandas.\n",
    "def votable_to_pandas(votable_file):\n",
    "    votable = parse(votable_file)\n",
    "    table = votable.get_first_table().to_table(use_names_over_ids=True)\n",
    "    return table.to_pandas()"
   ]
  },
  {
   "cell_type": "code",
   "execution_count": 5,
   "metadata": {},
   "outputs": [],
   "source": [
    "path = '/home/and/Data_science/Tesis/async_20201019120543.vot'"
   ]
  },
  {
   "cell_type": "code",
   "execution_count": 6,
   "metadata": {},
   "outputs": [],
   "source": [
    "file = votable_to_pandas(path)"
   ]
  },
  {
   "cell_type": "code",
   "execution_count": 7,
   "metadata": {},
   "outputs": [
    {
     "data": {
      "text/plain": [
       "1622137"
      ]
     },
     "execution_count": 7,
     "metadata": {},
     "output_type": "execute_result"
    }
   ],
   "source": [
    "len(file)"
   ]
  },
  {
   "cell_type": "code",
   "execution_count": 8,
   "metadata": {},
   "outputs": [
    {
     "data": {
      "text/plain": [
       "(-100.0, 100.0)"
      ]
     },
     "execution_count": 8,
     "metadata": {},
     "output_type": "execute_result"
    },
    {
     "data": {
      "image/png": "[encoded data removed]",
      "text/plain": [
       "<Figure size 432x288 with 1 Axes>"
      ]
     },
     "metadata": {
      "needs_background": "light"
     },
     "output_type": "display_data"
    }
   ],
   "source": [
    "plt.scatter(file.pmra, file.pmdec, s = 0.0001)\n",
    "plt.xlim(-60,60)\n",
    "plt.ylim(-100,100)"
   ]
  },
  {
   "cell_type": "code",
   "execution_count": 9,
   "metadata": {},
   "outputs": [],
   "source": [
    "file.to_csv(\"/home/and/Data_science/Tesis/CSVs/Pleiades_full\")"
   ]
  },
  {
   "cell_type": "code",
   "execution_count": null,
   "metadata": {},
   "outputs": [],
   "source": []
  },
  {
   "cell_type": "code",
   "execution_count": null,
   "metadata": {},
   "outputs": [],
   "source": [
    "file.to_csv(\"/home/and/Data_science/Tesis/CSVs/Beehive_full\")"
   ]
  },
  {
   "cell_type": "code",
   "execution_count": null,
   "metadata": {},
   "outputs": [],
   "source": [
    "file.to_csv(\"/home/and/Data_science/Tesis/CSVs/Perseus_full\")"
   ]
  },
  {
   "cell_type": "code",
   "execution_count": null,
   "metadata": {},
   "outputs": [],
   "source": []
  }
 ],
 "metadata": {
  "kernelspec": {
   "display_name": "Python 3",
   "language": "python",
   "name": "python3"
  },
  "language_info": {
   "codemirror_mode": {
    "name": "ipython",
    "version": 3
   },
   "file_extension": ".py",
   "mimetype": "text/x-python",
   "name": "python",
   "nbconvert_exporter": "python",
   "pygments_lexer": "ipython3",
   "version": "3.8.3"
  }
 },
 "nbformat": 4,
 "nbformat_minor": 4
}
